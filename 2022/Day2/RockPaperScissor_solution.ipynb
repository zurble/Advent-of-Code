{
 "cells": [
  {
   "cell_type": "markdown",
   "id": "d5a5e006",
   "metadata": {},
   "source": [
    "DAY 2\n",
    "Elves give you strategy guide, only explaining what first column is.\n",
    "You assume the second column is what you should play.\n",
    "To understand if this is trick or not, I need to calculate the result!"
   ]
  },
  {
   "cell_type": "code",
   "execution_count": 1,
   "id": "39a06204",
   "metadata": {},
   "outputs": [],
   "source": [
    "import pandas as pd\n",
    "import numpy as np"
   ]
  },
  {
   "cell_type": "code",
   "execution_count": 2,
   "id": "f250c65a",
   "metadata": {},
   "outputs": [
    {
     "ename": "SyntaxError",
     "evalue": "invalid syntax (1798570946.py, line 1)",
     "output_type": "error",
     "traceback": [
      "\u001b[1;36m  Input \u001b[1;32mIn [2]\u001b[1;36m\u001b[0m\n\u001b[1;33m    first column:\u001b[0m\n\u001b[1;37m          ^\u001b[0m\n\u001b[1;31mSyntaxError\u001b[0m\u001b[1;31m:\u001b[0m invalid syntax\n"
     ]
    }
   ],
   "source": [
    "first column:\n",
    "A for Rock \n",
    "B for Paper\n",
    "C for Scissors\n",
    "\n",
    "second column to win:\n",
    "X for Rock X>C and X<B\n",
    "Y for Paper Y>A and Y<C\n",
    "Z for Scissors Z>B and Z<A\n",
    "\n",
    "points for what I select:\n",
    "1 for Rock X\n",
    "2 for Paper Y\n",
    "3 for Scissors Z\n",
    "\n",
    "points from result:\n",
    "0 if lost\n",
    "3 if draw\n",
    "6 if won\n",
    "\n",
    "second turn:\n",
    "X lose\n",
    "Y draw\n",
    "Z win"
   ]
  },
  {
   "cell_type": "code",
   "execution_count": 1,
   "id": "becbc953",
   "metadata": {},
   "outputs": [],
   "source": [
    "with open('RockPaperScissor.txt') as file:\n",
    "    RRS_lines = file.read().strip()"
   ]
  },
  {
   "cell_type": "code",
   "execution_count": 2,
   "id": "f9c7cd39",
   "metadata": {
    "scrolled": true
   },
   "outputs": [],
   "source": [
    "def battle_point_calculator_for_X(opponent_sign):\n",
    "    if opponent_sign == 'C':\n",
    "        return 6\n",
    "    elif opponent_sign == 'B':\n",
    "        return 0\n",
    "    elif opponent_sign == 'A':\n",
    "        return 3 \n",
    "        \n",
    "def battle_point_calculator_for_Y(opponent_sign):\n",
    "    if opponent_sign == 'C':\n",
    "        return 0\n",
    "    elif opponent_sign == 'B':\n",
    "        return 3\n",
    "    elif opponent_sign == 'A':\n",
    "        return 6\n",
    "\n",
    "def battle_point_calculator_for_Z(opponent_sign):\n",
    "    if opponent_sign == 'C':\n",
    "        return 3\n",
    "    elif opponent_sign == 'B':\n",
    "        return 6\n",
    "    elif opponent_sign == 'A':\n",
    "        return 0\n",
    "    "
   ]
  },
  {
   "cell_type": "code",
   "execution_count": 13,
   "id": "9f44642b",
   "metadata": {},
   "outputs": [],
   "source": [
    "def total_battle_point_calculator_part1(a_list_iter):\n",
    "    total_battle_point = 0\n",
    "    total_self_points = 0\n",
    "    for line in a_list_iter:\n",
    "        opponent_sign = line[0]\n",
    "        own_Sign = line[2]\n",
    "        \n",
    "        if own_Sign == 'X':\n",
    "            total_battle_point += (battle_point_calculator_for_X(opponent_sign))\n",
    "            total_self_points += 1\n",
    "        elif own_Sign == 'Y':\n",
    "            total_battle_point += (battle_point_calculator_for_Y(opponent_sign))\n",
    "            total_self_points += 2\n",
    "        elif own_Sign == 'Z':\n",
    "            total_battle_point += (battle_point_calculator_for_Z(opponent_sign))\n",
    "            total_self_points += 3\n",
    "    \n",
    "    return total_battle_point+total_self_points"
   ]
  },
  {
   "cell_type": "code",
   "execution_count": 14,
   "id": "c5f12fd3",
   "metadata": {},
   "outputs": [
    {
     "name": "stdout",
     "output_type": "stream",
     "text": [
      "10718\n"
     ]
    }
   ],
   "source": [
    "print(total_battle_point_calculator_part1(RRS_lines.split(\"\\n\")))"
   ]
  },
  {
   "cell_type": "code",
   "execution_count": 20,
   "id": "b4e3ae46",
   "metadata": {},
   "outputs": [],
   "source": [
    "def battle_point_calculator_for_X_turn2(opponent_sign):\n",
    "    if opponent_sign == 'C':\n",
    "        return 2\n",
    "    elif opponent_sign == 'B':\n",
    "        return 1\n",
    "    elif opponent_sign == 'A':\n",
    "        return 3 \n",
    "        \n",
    "def battle_point_calculator_for_Y_turn2(opponent_sign):\n",
    "    if opponent_sign == 'C':\n",
    "        return 6\n",
    "    elif opponent_sign == 'B':\n",
    "        return 5\n",
    "    elif opponent_sign == 'A':\n",
    "        return 4\n",
    "\n",
    "def battle_point_calculator_for_Z_turn2(opponent_sign):\n",
    "    if opponent_sign == 'C':\n",
    "        return 7\n",
    "    elif opponent_sign == 'B':\n",
    "        return 9\n",
    "    elif opponent_sign == 'A':\n",
    "        return 8"
   ]
  },
  {
   "cell_type": "code",
   "execution_count": 21,
   "id": "f973e4d3",
   "metadata": {},
   "outputs": [],
   "source": [
    "def total_battle_point_calculator_part2(a_list_iter):\n",
    "    total_battle_point = 0\n",
    "    for line in a_list_iter:\n",
    "        opponent_sign = line[0]\n",
    "        own_Sign = line[2]\n",
    "        \n",
    "        if own_Sign == 'X':\n",
    "            total_battle_point += (battle_point_calculator_for_X_turn2(opponent_sign))\n",
    "        elif own_Sign == 'Y':\n",
    "            total_battle_point += (battle_point_calculator_for_Y_turn2(opponent_sign))\n",
    "        elif own_Sign == 'Z':\n",
    "            total_battle_point += (battle_point_calculator_for_Z_turn2(opponent_sign))\n",
    "    \n",
    "    return total_battle_point"
   ]
  },
  {
   "cell_type": "code",
   "execution_count": 22,
   "id": "5c22a7e7",
   "metadata": {},
   "outputs": [
    {
     "name": "stdout",
     "output_type": "stream",
     "text": [
      "14652\n"
     ]
    }
   ],
   "source": [
    "print(total_battle_point_calculator_part2(RRS_lines.split(\"\\n\")))"
   ]
  },
  {
   "cell_type": "code",
   "execution_count": null,
   "id": "e398a73a",
   "metadata": {},
   "outputs": [],
   "source": []
  }
 ],
 "metadata": {
  "kernelspec": {
   "display_name": "Python 3 (ipykernel)",
   "language": "python",
   "name": "python3"
  },
  "language_info": {
   "codemirror_mode": {
    "name": "ipython",
    "version": 3
   },
   "file_extension": ".py",
   "mimetype": "text/x-python",
   "name": "python",
   "nbconvert_exporter": "python",
   "pygments_lexer": "ipython3",
   "version": "3.9.13"
  }
 },
 "nbformat": 4,
 "nbformat_minor": 5
}
