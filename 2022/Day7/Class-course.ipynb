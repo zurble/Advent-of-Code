{
 "cells": [
  {
   "cell_type": "code",
   "execution_count": 1,
   "id": "f833344d",
   "metadata": {},
   "outputs": [],
   "source": [
    "class Student:\n",
    "    def __init__(self, name, age, gender='Male'):\n",
    "        print(self)\n",
    "        self.name = name\n",
    "        self.age = age\n",
    "        self.gender = gender\n",
    "    "
   ]
  },
  {
   "cell_type": "code",
   "execution_count": 7,
   "id": "e5abcd33",
   "metadata": {},
   "outputs": [
    {
     "name": "stdout",
     "output_type": "stream",
     "text": [
      "<__main__.Student object at 0x0000016D99D60730>\n"
     ]
    }
   ],
   "source": [
    "Ahmet = Student(\"Ahmet\", 12, \"Helikopter\")"
   ]
  },
  {
   "cell_type": "code",
   "execution_count": 11,
   "id": "c9b44c3a",
   "metadata": {},
   "outputs": [
    {
     "name": "stdout",
     "output_type": "stream",
     "text": [
      "<__main__.Student object at 0x0000016D9AE4D790>\n",
      "Helikopter\n"
     ]
    }
   ],
   "source": [
    "ayse = Student(\"Ahmet\", 12, \"Helikopter\")\n",
    "print(ayse.gender)\n",
    "ayse.gender = \"woman\""
   ]
  },
  {
   "cell_type": "code",
   "execution_count": 12,
   "id": "5244b442",
   "metadata": {},
   "outputs": [
    {
     "name": "stdout",
     "output_type": "stream",
     "text": [
      "woman\n"
     ]
    }
   ],
   "source": [
    "print(ayse.gender)"
   ]
  },
  {
   "cell_type": "code",
   "execution_count": null,
   "id": "addf2325",
   "metadata": {},
   "outputs": [],
   "source": []
  }
 ],
 "metadata": {
  "kernelspec": {
   "display_name": "Python 3 (ipykernel)",
   "language": "python",
   "name": "python3"
  },
  "language_info": {
   "codemirror_mode": {
    "name": "ipython",
    "version": 3
   },
   "file_extension": ".py",
   "mimetype": "text/x-python",
   "name": "python",
   "nbconvert_exporter": "python",
   "pygments_lexer": "ipython3",
   "version": "3.9.12"
  }
 },
 "nbformat": 4,
 "nbformat_minor": 5
}
