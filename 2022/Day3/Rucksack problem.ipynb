{
 "cells": [
  {
   "cell_type": "code",
   "execution_count": 5,
   "id": "ce0d7957",
   "metadata": {},
   "outputs": [],
   "source": [
    "import string"
   ]
  },
  {
   "cell_type": "code",
   "execution_count": 2,
   "id": "ce4b554b",
   "metadata": {},
   "outputs": [],
   "source": [
    "with open('list_of_all_items.txt') as file:\n",
    "    Rucksack_items = file.read().strip().split(\"\\n\")"
   ]
  },
  {
   "cell_type": "code",
   "execution_count": 3,
   "id": "727b2b04",
   "metadata": {},
   "outputs": [
    {
     "name": "stdout",
     "output_type": "stream",
     "text": [
      "['LLBPGtltrGPBMMsLcLMMVMpVRhhfCDTwRwRdTfwDllRRRDhC', 'gNFJHJFgtZFJjZJHNNFWZWZwwDjCwSDhfCDbdwjfwDTTDT', 'gmQNZnZNHWnqmQpLtVLMBsPpBqrL', 'HlHldQtHlctzppdQtjdczHhJRnnhGNVmVRJmVjCVFCNh', 'LgWNgggZJZGFhCZr', 'DbqPswwMvDPqzlBNHtzfHdwd', 'tJgtJwwCtNvPHHPtHzDsdRTsBRDDWgWTgT', 'QhLQjLGjZQFlFZmnmGLDrzWfRldrTrzTBRWTzs', 'bFFmFZjhSFHvBCvCvJpb', 'MSGcvnvMGMJgWJDpdndZwBnppfCp', 'VPVfQQVbshZNZwdNDwNs', 'LtLbjmQRLmVhQtTbfgWjJgFFcrqqrGSqWg', 'fHfCNCwwHfGhcntntrrgHrQnrn', 'FVqpSpbPpjSVMjqvVmVvMzlzwJnbtnnlzQQlrWzJgt', 'PTqqRRPSRSmqSpPpSpRZwGCLGscCNLZZZTNdNZ', 'pQQQslVSVzzCQnZSlplzbLcHZHcrrrbZqFbZjbFm', 'gWtvPgdMDDtFDHHjJJbbccbrLW', 'MhNvwwDfDfdtvRQnpFNNTlSRSn', 'ZTnSnTTzqvFmVzvWWm', 'ClpCgltHNrtgsHdpLCHtDCNLVvQvVwVmwcsWQGMMQvcGcFcv', 'JmrgCHCNJtlmHmNhnJjnnnjJhPfhSJ', 'BgRRZTgHHvRTRmRNLNNhQWlmGFfJlWlhsQshpF', 'qPqSSttwnnzqqqwtVrPwMthFsJllJJlGhpJhWJQlhVQd', 'MjMwScnDPzcwjtqDtztnctrvgNZTTvCvLgvQbLbvjTBvBg', 'SWQSbbqTTbPcfMZSwZZwwn', 'dghjghmNDmGsGgdnfmtMRCLCCRncfc', 'pJDJNdsNMMhpssgdprBTBzWlpBWlllWb', 'TwNLNZTwWCWLwWCSTZSLzWHGrDHHPmGdDHvndGdNfvMm', 'BgpjtpgjBjVbRjQRhVsDnvgGgPnGdrmvnMDfrf', 'rhRjRssQJplRtVbpthblbbLSLzFCJZFqLLFWCzqcqzLL', 'PBrdPMtBPvCQBVBjCfWPqSHbszhGGnsfSG', 'JpmDwJgWJgNzmShhmfSGzh', 'pRwNcNpFZNZRWgcNplpjVCMVjdvdMQtCMLZjMZ', 'lDrcnnlLqLRcDDZRLjFVTHzGCLGVPzGPVWGB', 'pNwHpdmsNJsbpwsbzJTCPWTVFzzQTWCQ', 'vbhswdtdwfdsmtNSssHwvllvMcZjnjcnZqlgMDZglM', 'GVVtJGtzVFsVsDTH', 'mQRgcBRmRLnBjrtFjCCrHmFF', 'gqpBnlRpgZcvdSdlMdSvMt', 'tMSCNGSflffNhnnGqlPPsrzWPrTrVpWr', 'bZHbmDBQmbDZQdbDcRFZZBTTWWWwqVzszWjrFPVwrzqq', 'HQBLHmQVQLDdCggMfgMNLvNG', 'HHNDzNJPJPmdPcNGGGhnhwnVhCQBwBjQ', 'bsSbLfrLtRSLRSRRRsBwhCpfpCzlwCBVjlCV', 'zvvsvqLtZqLtzRsqTrggRMHJNWJgHHHNJcgWNPdHcH', 'qgbNvqbgmmZgZLvZqgnZzlpzpzHtVPzttGPrrnnl', 'jwswGjQDMsQMjdBwdcjCHVtcPVpCVCrPlVSrpc', 'GsFWBfhGBfDFDFWqNbLNqbgvqbbvfN', 'HgwWqtcqHNWgnHcNNCfvJCCJJfJGvnPfrR', 'sbDhZSmdBbsSdmSDdrjjffRvdjPrprCd', 'vvZbSFFlFHtqFqqWNc', 'ZRjnbRsHlncZGjTRTfFVSQBQppQvvFBHpF', 'zrLwMdhDhqJJttDQSldQVPQSlSfPlV', 'hCWWCzqWnmcZlRRW', 'HfgfQflHjWgRQRdRBWVsnbvvscbbbwvmbHncSc', 'tJGLtPPGZPwVvSSPhw', 'CLGTLZqJtMGqLDFFDZZJFZJpWjRpVNRWpllDpjlBfgVjlp', 'rhhGZZhLNhPmfJqvfLlq', 'dHRTHRHQQWcTCRTHmmjJgfqqlGmgWgql', 'CCwRzTRRdCCRSQwzRcppprZtrMhGBMZMnDSt', 'WfffvnSnfSBshwsjhlvGlh', 'ZHpFNTmppVmNzVVmmFMZzbwwjHGrGlPhCGrljbgHsg', 'pLZMmqVsZVMMVVscDfdtSSStqcRRdn', 'RhRbLzRLHLCPmzznHLbzCRTJhdTVSJJVSjdFFNFFNTJv', 'MGgMfpMsBgpnMtGfnfwBtDBjFVdNSSSFdvJSQSpTJdJjNv', 'lMsBgDMsblmRblnz', 'ClNcJZttLfLvvRQzQWwRQN', 'hrpMdqMspsrGDdMphhdMMMMHBmRWmSVrRVzVTzQBQvSmzVWV', 'ppHDMGhMMDbGMdDMGbgFbgbMlJJnjjZtZfLPcfcngZfPPfCR', 'ZRslLRgCclZLZzQghQhfrbfGbJ', 'pVSHpBBBBDVDqDBldVzfrMzQbfSTSJrzzJrJ', 'DqqHnBDlpNDVVnpnjtDtNjCvFLcsFFPZRcPsNNmPcFcP', 'LmLWSmSRNdcpcRHFHrWzWHbMbwZlZlPSbTjlwPbTPJTf', 'DttBsvhnhqvGGBhGtBVNBVqJlPwslMMPJwTjZbbZPTfbPs', 'CDthQvVNVFCHHWCFdr', 'RRtCWSzQZdRMrtRWrSztMggcGDfQTcfFTGqTLgGDLc', 'bnVhnvPHhhdJJBTLDGcDTcBvvD', 'pmbnhmPPmHwdCjmdrRtCdj', 'lTPzwhzmHpTvrDCDHJnsNN', 'tdgtbMMBbWdFbtqJCnsrqnMMDsrq', 'FjWdtgLSWttWtLSWtDWBjGGmwGlzTRwPTQGhlQQm', 'wcbnTtTppNLrntznTBBccCGrVldRrZqdqRCZdFZCVZ', 'JfHDgjgPPfRRgRlLRddR', 'jhDhhLMfmJjMjDbNSTzbbbtmttmN', 'CfGlvzpvpTjzzCWjvDlfvbbJbCRSdSRhsSQCMhdbhR', 'wqrSmrLHHNcLqrrLBNsndssnnhPshnsQwbnJ', 'NtcmBLcNVDWzjSvWtv', 'vZPCSCvCJffvVvmCmPqCSlDSscczHDRcwcHzRlRHHs', 'LFGFNnGrdQttNMFpzpMRRDslsJwsJH', 'gjtLnFBJrLvhZvCbZhqB', 'DBcjVFjDhQMSJVZbHZbl', 'nfmsqppnLfTnfmMmzppwgllSrbSHHtllqbtSwZ', 'TRzTnfRWnfdzWssfnRfRpncQPBhdDjjDCPcMQcCBGPPj', 'NSjWCHjNHjpPWPpSFWdtqBMBBFVBvqvJGJwqBt', 'gQllgDrnhQQDGRshRsZfVtVMRqwMtccVJcBtvRqw', 'DQrzrDzhQgrsZLrZjWSSHNTWCjjNGTLH', 'CgdcCFcbTbBzPgmNRmpptP', 'rsZtsvVvHZZzPmqVNPzNmV', 'HZjrwrjnjtHSHwDGdFhCdhWWJnWchCFJ', 'RMTqQMRJqPtBtGBPtWjN', 'ssHfSfShCwwbhsbHhhsmSfhSGNpCpNCjBBBLptcGtpzBBBWW', 'HnwrSFwffHsFwrSSjfHglJJlTgZdFdgZRZTDDM', 'pDLDWlDSlJDmzSJnDScRPLGGvqFqLPccGLgv', 'CZHfwNMVNjsHNNqPgcbcBbRQGQ', 'dCffZCjVCdCHHTmnlSgTlTSrlStp', 'bFtlLCvLlVjpCGPJndrrMMCDDCnrMg', 'hRsTwcZcBjZRJrfMDnsHrJnH', 'mNZqcTSSBTScNzVQFtGtjpFtjmGG', 'bjHdLrHjRWpDCtLzhzps', 'lZcGfTvQcQfvlqqcNCcBvVwtGzmzthmwmpthMDmswgMt', 'NcqflNQTBTTvvQSvqSVvQJbHPHbHCRJdndJPSHjWHb', 'CVmRncrRVrhcmsBgfmtfdJsJmt', 'bZHvZZDJwpWtdZgtGNGd', 'vSbwHDMFMJqPQqQvvSPQqpSwjRcTVTLjLRhVCLFLjLFnFzCC', 'mtffsmBwfwBDBmmsLsHqtpftGrMVMPSMPsVvhNvFrGPMvjNV', 'TQTQCRWjJcdcQQSPrhhPSvVGPF', 'cTRJCnldWJZlTgbWgbdbpqfqmppjmtljpqzmjpLw', 'NNPmrmPWmrSSNNPmnglghmCvLCCflh', 'LFbsDQMQFtQFHbQHqhvnngCftpcllptJgJ', 'bDjsGqLLdRVjPZPP', 'tgrbBQlbtRblwtRGrbCNswDDCsvFszpssCss', 'SJVMhSZfHvpdhphN', 'SMLpWZSSZMjfgGBgRtbQgljQ', 'HsHHNDDHzHDDjsVBBZqtWBrSNcPwQvccvvdhPclSrQSc', 'fGCFCgpgTfnTmgTFLFgccclhwQhwrzSwSwrCrr', 'pmLJGfMRpFmfFMzmgGmRpgmVqWJDqZqqHtjBBVDBBqqssJ', 'mBTfcfCCmpBCCSzNQScQSTfddhdtwgttjghNwGtGdgwGtd', 'HvvqbvMLnFZVVPjJGRGzGRjZtwgw', 'VFHFbsFHHSmzQBmsmT', 'ZNmZCmNHHzzmPPzlbplvhbQh', 'GDSwldfdvggPfLvQ', 'ddqrtlnJDJlnjScRmMRCFHTHtFZF', 'FPvglHSPcpNcFNSHFHNvZjdmbwdbzZtzsHDzbsbj', 'MMnBLCCWBJCnrCVWCBstTZdZmdTtbDLswTtZ', 'BMDnRCrnGhPPSgcgpG', 'nsbgpbdrjMdGqnNRRWWRww', 'tZZhPzCJhsJBtJPllJBCtCvwwcwwWLvWvwWRThcGcqLq', 'mlBmZQPZmlppbgMmfssg', 'RFdZTHFCdvjhgGnFqj', 'zQLtNQpzNNtNpDtDPWLNMmGfBcjgjlgjhBnvcfnBvfjp', 'PtmLsPzQVWzWDswCSwHbRZsGZw', 'nPsfnPsFhTGjqGnmQppG', 'RZhBbNwbBRZHZSCCHQqSpCpqqm', 'VMbgNWRWMDfhtFJT', 'RWhRPDhBHZWgZghRZwZgGJPGdncFdLcdLCjscFcjCjNLLj', 'mQfSrlfTVqmSVTTTrprfFLqcdLHsLHFnvsFFqnNd', 'TtQmVHmMrbMWRggRPJZP', 'TTlCTVTdcpBlcchF', 'ZLhwSMZhqhtqwqLjFcBvFmvvssGBmmjj', 'LwSMRtqMHnqhhRZRRtJSVTgggVPdTdrVbQDJgTPW', 'CGFFWFFVgjfzgVfcJCcgTCcBBWqSqMMBMBShhwMLMwSSMq', 'fmQnflldltBZqlwqNZpB', 'dvtnvmtRtsPbzCfTHjHcPzGf', 'hzshzfshVhthgMmRsFRvFqmm', 'PDDcZWlWBbplvmRRGtlvqQ', 'ncjnDjbScnBWZjDVfwjfrrVtwLjzhr', 'QRWvffVVGfDhNNjzGZLLcGGZ', 'rgtpSSHpPrHSspvNLFlzTgNLlFglcc', 'SSpbMHpvmwMQhMBR', 'dHLtBqPCtPBHNsbRNdNNsZVN', 'nQwntMwJWhwWjvcjDMlntRsNpgSbNNpglFpVggbSVF', 'QDhJWwhzJtTqLzCmtT', 'PSLqTqrCrRvCSJWLdLwdVWdQWL', 'zNjHQnnHjHznnbDMnMMMdVZcpZZJpZWcdJFZ', 'BntfgNbzfBtHzgnbbbPPSstlQSSGGrlGsrTT', 'QpBNsBzztgqVtdmp', 'jvrhGljRhSTlGGvjwjSwGjRvHVdqLttrMgMbtMMMVmdqqHfV', 'ChTvTvljmCsQQQnNsQ', 'CQCNSQHHgCtNHCNHHNDJcBJwLPtJBGhMPPPJwM', 'zRTqmsdRRzrmdzVRpzPwcjdwwhLjMBMGBBLw', 'hprmzRmblTzTVTVrlbrmVHNWNnCZFWNNFZlnDFSWgQ', 'hGGqwwdwMqsRDGRBzlvDzB', 'LTNTfcCFFFCcNHFFBzRSZRBlzHPSZdvD', 'nLVTFNfVVLLWnwnwdrdbhnrhrr', 'hlTpcDTpHmHwDmMbbdMMMGTPdGPR', 'ZzFqNSQqHvBvzzqjFHtvSGRRMPQsJGJWRGWPMRdRsM', 'BZjLNqNqzVVHgLVgll', 'ZHHBzSZPVqghJgSnBhqJRQLRRMvQpwZvfNQRMMMp', 'ctFCDmdDWmDGNRFMpRlwwQPP', 'PrsmDmCGjtcmdjGtVqBSjJhnSbHnnghH', 'QmZHTjmmHRmmdPRvHdVlPdrNNLqWzffbRtqpzfWtWsWNNW', 'gwMcgnMGFGCjJLqfbtNtzzssCW', 'DwMFGBwcBFjhBBhcDSJQQVQTPldTvPlVVZQSdQ', 'NRTGfNffLghStLRR', 'QlnWsdJWmnbWnVqWbWqHPSpmjgCjtSwhPjgtptLS', 'JWchnllHqQJzGTZfTcFNDN', 'VtdtcTVVCRctVdJclCVtpphpPhNGDwNPmThwWmgG', 'ZjZMFnfBqqMjHZHMzBnzgPGwDmhmhDPfQNGPQGfD', 'BbgsnFgMgMlVdJtlcVSs', 'tlBMdBnClhLJnTbgph', 'PhDDczqDGPqsHGrRGPWHGPzcFJNLTTJZLNbNLfFZgTbffL', 'sHsmzzrGmPrRDRHqhHwmjBVtllwtdMdBSBtl', 'QscfZsGsVjVtqGmlzvRMvl', 'ThJNCHPTDDhHHJTJPHmlSMTtTTlBvlnMSzqn', 'HhCdrHrCcpmmdVmb', 'WPPBPvRWzvhWhWzGWtBqBSTLDZhgFSTCDgSgZZDCZs', 'flbJmMJnjdMqNdfZZrFZZNFZgrrsTZ', 'nQnqJlJdlQMMbVnVmdMplVnnBwcBPGttzQcvtHcWwWtHRHvB', 'LLsmpJTWCJmJppCmgHCCLjbFtRFghzjfjcjcZttbRg', 'SZlMPBdBtQfFSbSF', 'nPqldlDwlBVnvdLWJVsmVNZCCVmJ', 'HWvNVtHWJjHJsSgHsHzsDsmf', 'RwZGPFGMQgzpTGSD', 'PZMlwwqhFPPZqwFhPwnFbMjWJNNBtWNVJlCJJWJjWWzj', 'frBSzJDtztfNVGwRzVgGhqsV', 'MPMmjPWGMMmPCQCcbmRwVhTgVwTTqjvRTLww', 'cFpcMGFplDHfBHFS', 'gtjhjLffmgjgmbgVfbNdqFJMJMNbbwrwqq', 'sWHHPSJsHzTZzTGsCdrqCNNddGdGFGRC', 'ZpzHHTZWzsSSnBBPsTBnLVcpQfcJcQVQDQfcDfQt', 'qMPqChqjQPRCMqlBrmGmLbPSsTbSvz', 'nWNHZFVZZttWpfHsGSbBGTbWBSGmSm', 'nZfpVfdZdtFHnwVHZtNwZhCJRJhcCdDcQhCqDSSCQc', 'LlwSlZrftFSMpfLCdltTmmmSDmJqmssDVJBmJB', 'cRcGGhpvDTmTDgsG', 'nNPcjpWbNzjRRcWhbzWjvnLMddMLCwtdtMttddtrCdMz', 'NszSsDCMSDzdZpCMCSMpNszfTvJhlvmlmrTfrhlhHPrmhD', 'FRWBgRjWwqFWQFBBWjVncjRTvJfvvJvVrHhmVrHhmrdJTh', 'wnwnqwRGFqdbNNtCGpCp', 'zgsBvPVVDDrDtDgt', 'nTHldmJQNTTfflcJNrQlHWpmDDFDFhWpWCLtFbphCm', 'nTTNMlNfHQZTQPGSzVVZSVPSwr', 'bPLbtPpwsJhlpnhnnLNNZDWhRNzWQrWWffNr', 'SczqFdFHSTFjmMSMFVqFGCWWNRrWQQQRZCVWgQQgrZ', 'dFdzFGHvjmqGMFwwLLsPnvBspnsn', 'lwJwwmblVdvjbbbJvVnlmjGTTNTLqffpqDJffqGLqDLD', 'ZtWgPtRMtQRQnTGDQNTTqL', 'gCztMgWgchHhvwlllbnl', 'cCwSSCVbqwCCWSbZMmGdtBllWBfdlvdt', 'jzRsJjhPjnLthJNNpmpvmvvMfGvjQpGv', 'nPHPFgRHLtCHZrqTcq', 'dVJwCJGCVrQQGTNtLtGm', 'hWWgDHBzWWWpZlhWBssLDTDsQTLLtswswL', 'gPhBHpjwHcljpggwwWqvbFvdCVRqPPnnqVRb', 'zRRRRNqzpQZNNRRmRcZscQcCDmCTTTDGfTbfGhrTCTrbFF', 'HMvMtjgtLHVlLVfhCGfrfhJhhrvh', 'LBgStjnHBjLVgggBgHndnSNNQdNWcQQNGZccwsccdQpw', 'jLRqmZNGtZtvZvHzPfCvSSzhCP', 'QbwDVHFrVbDVrDFbzPwSThSfddhWPWzS', 'rpnFDccHFHtZNmMmRntj', 'RFVdzzlNtrwSTltb', 'hHGcqqBcGLQZffHhMwSswSWGrnnbMStC', 'cgqLBgQgpgbbPbPz', 'lfcgglhfTvmlBvclbgztnSRtSmttwRJwptWR', 'FMjDjsdNDjNMQLFFLCMQdtwGGzRwzpGwzdWzzJpGhn', 'ZQVNsVZMPsVhCQsFCFsHHlqlcBZrHHfBflbHBB', 'vGGQQdwNCTJfQJHJbM', 'FFqmzghlzhgqjlFqzZhmhPlRgBDLLRTTcHMbRcJHBLcgRH', 'qFrPjnhZmqnhZZjhhmpPzZmtvbpwtdvsSCCsGwdNwvwNCp', 'nrFdSHScdRwvdvRm', 'NNpPLJJbNbppCvmzbHTbmsTw', 'fWLHPlPtpMNBgGQgqggQSMGc', 'BcHtrBcnjflfHslsrnltbTgvMwpWnnWpwwwCwCCRRW', 'dzGhLSSGDdPNgLLdPWTqWWRMqwRWpvzMMv', 'VPZZNhhNSSDhLNSLdFZBVgBbjHcgsgfrbBJbfs', 'VMnWjjWTnNNCzzhblbbjlj', 'FmHwfFHqpDrJzPQLPLbCDs', 'GrdFfHqqSmmwHSqHfpdMNTtTtZCMMZtTRggGZR', 'QRlnlTphqNfqdjZNmd', 'rDtPmGctFrcgDjJcNjvNJNCcNw', 'bgGDtgDbBWBSBVlblmVmsRMmLM', 'CcQTQTrrmfQQhZZBpZpSSZ', 'JFqSvLlLbWggDvDDFHjsdnshBZpjHBBhBW', 'FgJqNvLRMlMMDDblrtfrTCStmCVtNttz', 'MRRbbddqtHbMZbqMHHTFTFgwZglWPfgsZWgW', 'LCcLjzCNGNcvpvLTFPmzlFsfTgFlgs', 'NhNGcrCGrsrvcDpvVcSbtHQJQbnQbSdHMtJV', 'bfMfBFcWFsWZHBWRPQpRqdwmMpmddm', 'rSShvvVTNVhvVCCvThDlSvCwpGCmRmGQmPwmpLRLRdpq', 'DhRzzVNVVgSzTFcgtnbHnHbfBB', 'HsTGHHvlvvGTGlHBvlbZstrVrwNjrjVStwVVZR', 'PPmgcFJPFcFWmWMgdNtVtQZtDVDVdZZjjR', 'LLqWnMnmNvlBLCTzCT', 'qTttLqLvGCQqCDlhml', 'FJjzrRBrpjRWrCwrBrrwpRbbDzgghSmmNhPQhgNshmDSzSNm', 'bJBrbFRjBVnWBrRBnHLfHGfdVtvHttcCdT', 'mTzjGPmPPmPNjNBTvlJRlNJzZqrzrSZZSpcZqpgcgcggFr', 'QWCwwMwWWhVZFbpQDSpSJS', 'stMMsWwMwVWtwJTNNPvvRmTsNPsl', 'gGFFNWMMNFTBlLpGpSll', 'qvccssdDwDbhMhzwHLppTSHLrdBpBVLV', 'PhJhzhMJzwDJwhZZtZQJCjgWtFjZ', 'pGqWfqqGcspGqWqppHprpTrzhCzttMBCtbtJmtJbSBvWBt', 'QDnVPgVPgDCJBMhmBJgv', 'NlZwFlnnPLLlFwDlDlnPPFFHTMTdMZjTTcjsqqcsdfGdcp', 'HLzZfHWWQwpgVHjVHr', 'JlMlMGGDMtJGdtJhqtlccDgVCSTFFSCSDTggpvFTjSgS', 'JcGRMlthtlVNMJRfzWsPnQsnnZNZns', 'zVfvMpsbtQmtBlFWBZ', 'lLSrlNTNRSFRFhhHRmPR', 'dnSJjjwJJGwwnzVlvpszvccM', 'SmlcCrpnrnznGzSBBSfzNbtsQsWZQcFbWctcbbZb', 'JHgwJPjvdghbbWdDZGNLZb', 'JjghvvhRwhwJVhHTzmfRfzGSMrzBfnGC', 'JbCmrbnzmntnVJjbCHJJFQFvqgJgQgqLDQ', 'NGhhhhPMGhWsSSchWlNsCLBBlLFQCgqvgCFFgQBg', 'PdcNWWcdGdPssPPNTSNNtzbTwjntzbbVwtZpCVnb', 'tGNgtsNQHsJmwwzddmQw', 'hMhhDBwMhDDfCRRBjFDDTTWjdWmrmdWqjlmmmjJz', 'RSpSSBhppDhRncRLswZLGvtGvNcNtL']\n"
     ]
    }
   ],
   "source": [
    "print(Rucksack_items)"
   ]
  },
  {
   "cell_type": "code",
   "execution_count": 6,
   "id": "5d3f9ad5",
   "metadata": {},
   "outputs": [
    {
     "name": "stdout",
     "output_type": "stream",
     "text": [
      "7793\n"
     ]
    }
   ],
   "source": [
    "All_common_items = []\n",
    "Combined_value = 0\n",
    "Combined_value_list = []\n",
    "\n",
    "for n in Rucksack_items:\n",
    "    half_num_items = int(len(n)/2)\n",
    "    first_half_of_Rucksack = n[:half_num_items]\n",
    "    second_half_of_Rucksack = n[half_num_items:]\n",
    "    common_item = ''.join(set(first_half_of_Rucksack).intersection(second_half_of_Rucksack))\n",
    "    All_common_items.append(common_item)\n",
    "    \n",
    "    if common_item.islower():\n",
    "        Combined_value += string.ascii_lowercase.index(common_item)+1\n",
    "        Combined_value_list.append(string.ascii_lowercase.index(common_item)+1)\n",
    "    else:\n",
    "        Combined_value += string.ascii_lowercase.index(common_item.lower())+27\n",
    "        Combined_value_list.append(string.ascii_lowercase.index(common_item.lower())+27)\n",
    "\n",
    "\n",
    "#print(len(All_common_items))\n",
    "#print(len(Rucksack_items))\n",
    "print(Combined_value)\n",
    "#print(All_common_items)\n",
    "#print(Combined_value_list)"
   ]
  },
  {
   "cell_type": "code",
   "execution_count": 9,
   "id": "f14f8f7a",
   "metadata": {},
   "outputs": [
    {
     "name": "stdout",
     "output_type": "stream",
     "text": [
      "2499\n",
      "['t', 'N', 'B', 'f', 'w', 'F', 'm', 'Q', 'M', 'r', 'W', 'H', 't', 'V', 'z', 'G', 'v', 'l', 'V', 'G', 's', 'n', 'R', 'l', 'N', 'd', 'D', 'L', 'S', 'J', 'M', 'G', 't', 'j', 'g', 'j', 'C', 'J', 'j', 'L', 'p', 'z', 'z', 'l', 'D', 's', 'G', 'h', 'H', 'h', 'f', 't', 'v', 't', 'Q', 'm', 'h', 'd', 'H', 'P', 'j', 'h', 'g', 'h', 'm', 'q', 'Z', 'z', 'G', 'J', 'S', 'p', 'd', 'r', 'z', 'n', 't', 'w', 'G', 'H', 'b', 'h', 'b', 'H', 'g', 'C', 'm', 'S', 's', 'R', 'N', 'C', 'J', 'M', 'M', 'V', 'l', 'G', 'C', 'w']\n"
     ]
    }
   ],
   "source": [
    "copy_Rucksack_items = Rucksack_items.copy()\n",
    "triple_grouping_temporary = []\n",
    "triple_grouped_all = []\n",
    "All_common_items = []\n",
    "Combined_value_ofthree = 0\n",
    "Combined_value_ofthree_list = []\n",
    "counter = 0\n",
    "\n",
    "for n in copy_Rucksack_items:\n",
    "    triple_grouping_temporary.append(n)\n",
    "    counter += 1\n",
    "    if counter % 3 == 0:\n",
    "        triple_grouped_all.append(triple_grouping_temporary)\n",
    "        triple_grouping_temporary = []\n",
    "\n",
    "for k in triple_grouped_all:\n",
    "    common_in_three = ''.join(set(k[0]).intersection(k[1], k[2]))\n",
    "    All_common_items.append(common_in_three)\n",
    "    \n",
    "    if common_in_three.islower():\n",
    "        Combined_value_ofthree += string.ascii_lowercase.index(common_in_three)+1\n",
    "        Combined_value_ofthree_list.append(string.ascii_lowercase.index(common_in_three)+1)\n",
    "    else:\n",
    "        Combined_value_ofthree += string.ascii_lowercase.index(common_in_three.lower())+27\n",
    "        Combined_value_ofthree_list.append(string.ascii_lowercase.index(common_in_three.lower())+27)\n",
    "\n",
    "print(Combined_value_ofthree)\n",
    "print(All_common_items)\n"
   ]
  },
  {
   "cell_type": "code",
   "execution_count": null,
   "id": "74ab161b",
   "metadata": {},
   "outputs": [],
   "source": []
  }
 ],
 "metadata": {
  "kernelspec": {
   "display_name": "Python 3 (ipykernel)",
   "language": "python",
   "name": "python3"
  },
  "language_info": {
   "codemirror_mode": {
    "name": "ipython",
    "version": 3
   },
   "file_extension": ".py",
   "mimetype": "text/x-python",
   "name": "python",
   "nbconvert_exporter": "python",
   "pygments_lexer": "ipython3",
   "version": "3.9.13"
  }
 },
 "nbformat": 4,
 "nbformat_minor": 5
}
