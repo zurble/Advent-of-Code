{
 "cells": [
  {
   "cell_type": "code",
   "execution_count": 2,
   "id": "75ae0e5e",
   "metadata": {},
   "outputs": [],
   "source": [
    "import re\n",
    "import numpy as np\n",
    "from dataclasses import dataclass\n",
    "\n",
    "@dataclass\n",
    "class Move:\n",
    "    amount: int\n",
    "    from_id: int\n",
    "    to_id: int\n",
    "\n",
    "\n",
    "\n",
    "def movement_plan_extractor(file_name_btw_brackets):\n",
    "    with open(str(file_name_btw_brackets) + \".txt\") as file:\n",
    "        movement_plan = file.read().strip().split(\"\\n\")\n",
    "    return movement_plan\n",
    "\n",
    "\n",
    "def make_intial_positions_into_dictionary(file_name_btw_brackets: str) -> dict[int, list[str]]:\n",
    "\n",
    "    with open(str(file_name_btw_brackets) + \".txt\") as file:\n",
    "        crates_initial_orientation_list = file.read().strip().split(\"\\n\")\n",
    "    \n",
    "    crates_initial_orientation_splittedlist = []\n",
    "    for k in crates_initial_orientation_list:\n",
    "        n = 3\n",
    "        stack = [k[i+1:i+(n-1)] for i in range(0, len(k), n+1)]\n",
    "        crates_initial_orientation_splittedlist.append(stack)\n",
    "\n",
    "    arranged_positions_back_tolist = np.transpose(np.array(crates_initial_orientation_splittedlist)).tolist()\n",
    "\n",
    "    \n",
    "    crate_positions = {}\n",
    "    for i in arranged_positions_back_tolist:\n",
    "        sublist_to_append = reversed([s for s in i if s != 'x'])\n",
    "        crate_positions.update({int(sublist_to_append[0]):sublist_to_append[1:9]})\n",
    "\n",
    "    return crate_positions\n",
    "\n",
    "\n",
    "def movement_order_executor(crate_positions, movement_order_plan: list[str]):\n",
    "    for movement_order in movement_order_plan:\n",
    "        move = Move(amount=int(re.findall(r'\\d+', movement_order)[0],\n",
    "                    from_id=int(re.findall(r'\\d+', movement_order)[1],\n",
    "                    to_id=int(re.findall(r'\\d+', movement_order)[2])\n",
    "        \n",
    "        \n",
    "        for t in range(move.amount):\n",
    "            crane = crate_positions[move.from_id][-1]\n",
    "            crate_positions[move.to_id].pop()\n",
    "            crate_positions[move.to_id].append(Crane)\n",
    "    \n",
    "    return crate_positions\n",
    "\n",
    "\n",
    "def new_crate_orientation_printer():\n",
    "    \n",
    "    return"
   ]
  },
  {
   "cell_type": "code",
   "execution_count": 3,
   "id": "2d5ed077",
   "metadata": {},
   "outputs": [
    {
     "name": "stdout",
     "output_type": "stream",
     "text": [
      "{1: ['C', 'M', 'N', 'H'], 2: ['J', 'N'], 3: ['S'], 4: ['L', 'L', 'V', 'N'], 5: ['C', 'L', 'D', 'M'], 6: ['M', 'R', 'B', 'V', 'F', 'Q', 'W', 'T', 'Q', 'J', 'P', 'L', 'W', 'H', 'B', 'R', 'T', 'G', 'M', 'H', 'D', 'T'], 7: ['D', 'G', 'Q', 'F', 'R', 'Z', 'G', 'D', 'P', 'G', 'H', 'P', 'L', 'L'], 8: ['M', 'C', 'H'], 9: ['R', 'Q']}\n",
      "Solution is: ['H', 'N', 'S', 'N', 'M', 'T', 'L', 'H', 'Q']\n"
     ]
    }
   ],
   "source": [
    "positions = make_intial_positions_into_dictionary(\"Crates_initial_orientation_x\")\n",
    "plan = movement_plan_extractor(\"crates_movement_plan\")\n",
    "plan_executed = movement_order_executor(positions, plan)\n",
    "print(plan_executed)\n",
    "\n",
    "solution_list = []\n",
    "for g in range(len(plan_executed)):\n",
    "    solution_list.append(plan_executed[int(g)+1][-1])\n",
    "\n",
    "print(\"Solution is: \" + str(solution_list))"
   ]
  },
  {
   "cell_type": "code",
   "execution_count": 9,
   "id": "7f004543",
   "metadata": {},
   "outputs": [],
   "source": [
    "def find_median(input_list: list[int]) -> float:\n",
    "    print(0)\n",
    "    # asdas\n",
    "    return input_list[len(input_list)//2]"
   ]
  },
  {
   "cell_type": "code",
   "execution_count": 10,
   "id": "afb08d5a",
   "metadata": {},
   "outputs": [
    {
     "name": "stdout",
     "output_type": "stream",
     "text": [
      "0\n",
      "2\n",
      "0\n",
      "0\n",
      "1\n",
      "0\n",
      "0\n",
      "2\n",
      "0\n"
     ]
    },
    {
     "ename": "AssertionError",
     "evalue": "",
     "output_type": "error",
     "traceback": [
      "\u001b[1;31m---------------------------------------------------------------------------\u001b[0m",
      "\u001b[1;31mAssertionError\u001b[0m                            Traceback (most recent call last)",
      "Input \u001b[1;32mIn [10]\u001b[0m, in \u001b[0;36m<cell line: 8>\u001b[1;34m()\u001b[0m\n\u001b[0;32m      5\u001b[0m \u001b[38;5;28;01massert\u001b[39;00m find_median([\u001b[38;5;241m1\u001b[39m]) \u001b[38;5;241m==\u001b[39m \u001b[38;5;241m1\u001b[39m\n\u001b[0;32m      7\u001b[0m \u001b[38;5;28mprint\u001b[39m(find_median([\u001b[38;5;241m1\u001b[39m, \u001b[38;5;241m2\u001b[39m]))\n\u001b[1;32m----> 8\u001b[0m \u001b[38;5;28;01massert\u001b[39;00m find_median([\u001b[38;5;241m1\u001b[39m, \u001b[38;5;241m2\u001b[39m]) \u001b[38;5;241m==\u001b[39m \u001b[38;5;241m1.5\u001b[39m\n",
      "\u001b[1;31mAssertionError\u001b[0m: "
     ]
    }
   ],
   "source": [
    "print(find_median([1,2,3]))\n",
    "assert find_median([1,2,3]) == 2\n",
    "\n",
    "print(find_median([1]))\n",
    "assert find_median([1]) == 1\n",
    "\n",
    "print(find_median([1, 2]))\n",
    "assert find_median([1, 2]) == 1.5"
   ]
  },
  {
   "cell_type": "code",
   "execution_count": 15,
   "id": "2392d000",
   "metadata": {},
   "outputs": [],
   "source": [
    "def parse_crates(infile: str):\n",
    "    pass"
   ]
  },
  {
   "cell_type": "code",
   "execution_count": 16,
   "id": "719b96bd",
   "metadata": {},
   "outputs": [
    {
     "ename": "AssertionError",
     "evalue": "",
     "output_type": "error",
     "traceback": [
      "\u001b[1;31m---------------------------------------------------------------------------\u001b[0m",
      "\u001b[1;31mAssertionError\u001b[0m                            Traceback (most recent call last)",
      "Input \u001b[1;32mIn [16]\u001b[0m, in \u001b[0;36m<cell line: 1>\u001b[1;34m()\u001b[0m\n\u001b[1;32m----> 1\u001b[0m \u001b[38;5;28;01massert\u001b[39;00m parse_crates(\u001b[38;5;124m\"\u001b[39m\u001b[38;5;124mtest_input.txt\u001b[39m\u001b[38;5;124m\"\u001b[39m) \u001b[38;5;241m==\u001b[39m {\u001b[38;5;241m1\u001b[39m: [\u001b[38;5;124m\"\u001b[39m\u001b[38;5;124mA\u001b[39m\u001b[38;5;124m\"\u001b[39m, \u001b[38;5;124m\"\u001b[39m\u001b[38;5;124mB\u001b[39m\u001b[38;5;124m\"\u001b[39m], \u001b[38;5;241m2\u001b[39m: [\u001b[38;5;124m\"\u001b[39m\u001b[38;5;124mC\u001b[39m\u001b[38;5;124m\"\u001b[39m]}\n",
      "\u001b[1;31mAssertionError\u001b[0m: "
     ]
    }
   ],
   "source": [
    "assert parse_crates(\"test_input.txt\") == {1: [\"A\", \"B\"], 2: [\"C\"]}\n",
    "assert parse_crates(\"test_input2.txt\") == {1: [\"A\", \"B\"], 2: [\"C\"]}"
   ]
  },
  {
   "cell_type": "code",
   "execution_count": null,
   "id": "ea4014e9",
   "metadata": {},
   "outputs": [],
   "source": []
  }
 ],
 "metadata": {
  "kernelspec": {
   "display_name": "Python 3 (ipykernel)",
   "language": "python",
   "name": "python3"
  },
  "language_info": {
   "codemirror_mode": {
    "name": "ipython",
    "version": 3
   },
   "file_extension": ".py",
   "mimetype": "text/x-python",
   "name": "python",
   "nbconvert_exporter": "python",
   "pygments_lexer": "ipython3",
   "version": "3.9.12"
  }
 },
 "nbformat": 4,
 "nbformat_minor": 5
}
