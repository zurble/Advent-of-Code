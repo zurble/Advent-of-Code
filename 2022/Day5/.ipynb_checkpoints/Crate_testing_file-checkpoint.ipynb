{
 "cells": [
  {
   "cell_type": "code",
   "execution_count": 1,
   "id": "a566d15f",
   "metadata": {},
   "outputs": [],
   "source": [
    "import re\n",
    "import numpy as np"
   ]
  },
  {
   "cell_type": "code",
   "execution_count": 66,
   "id": "803f0509",
   "metadata": {},
   "outputs": [],
   "source": [
    "with open('crates_movement_plan.txt') as file:\n",
    "    movement_plan = file.read().strip().split(\"\\n\")"
   ]
  },
  {
   "cell_type": "code",
   "execution_count": 68,
   "id": "ebea9bd5",
   "metadata": {},
   "outputs": [
    {
     "name": "stdout",
     "output_type": "stream",
     "text": [
      "['xxxx[P]xxxxxxxxxxxxxxxxx[Q]xxxxx[T]', '[F]x[N]xxxxxxxxxxxxx[P]x[L]xxxxx[M]', '[H]x[T]x[H]xxxxxxxxx[M]x[H]xxxxx[Z]', '[M]x[C]x[P]xxxxx[Q]x[R]x[C]xxxxx[J]', '[T]x[J]x[M]x[F]x[L]x[G]x[R]xxxxx[Q]', '[V]x[G]x[D]x[V]x[G]x[D]x[N]x[W]x[L]', '[L]x[Q]x[S]x[B]x[H]x[B]x[M]x[L]x[D]', '[D]x[H]x[R]x[L]x[N]x[W]x[G]x[C]x[R]', 'x1xxx2xxx3xxx4xxx5xxx6xxx7xxx8xxx9x']\n"
     ]
    }
   ],
   "source": [
    "with open('Crates_initial_orientation_x.txt') as file:\n",
    "    crates_initial_orientation_list = file.read().strip().split(\"\\n\")\n",
    "print(crates_initial_orientation_list)"
   ]
  },
  {
   "cell_type": "code",
   "execution_count": 69,
   "id": "e208dbe7",
   "metadata": {
    "scrolled": true
   },
   "outputs": [
    {
     "name": "stdout",
     "output_type": "stream",
     "text": [
      "[['x' 'F' 'H' 'M' 'T' 'V' 'L' 'D' '1']\n",
      " ['P' 'N' 'T' 'C' 'J' 'G' 'Q' 'H' '2']\n",
      " ['x' 'x' 'H' 'P' 'M' 'D' 'S' 'R' '3']\n",
      " ['x' 'x' 'x' 'x' 'F' 'V' 'B' 'L' '4']\n",
      " ['x' 'x' 'x' 'Q' 'L' 'G' 'H' 'N' '5']\n",
      " ['x' 'P' 'M' 'R' 'G' 'D' 'B' 'W' '6']\n",
      " ['Q' 'L' 'H' 'C' 'R' 'N' 'M' 'G' '7']\n",
      " ['x' 'x' 'x' 'x' 'x' 'W' 'L' 'C' '8']\n",
      " ['T' 'M' 'Z' 'J' 'Q' 'L' 'D' 'R' '9']]\n",
      "[['x', 'F', 'H', 'M', 'T', 'V', 'L', 'D', '1'], ['P', 'N', 'T', 'C', 'J', 'G', 'Q', 'H', '2'], ['x', 'x', 'H', 'P', 'M', 'D', 'S', 'R', '3'], ['x', 'x', 'x', 'x', 'F', 'V', 'B', 'L', '4'], ['x', 'x', 'x', 'Q', 'L', 'G', 'H', 'N', '5'], ['x', 'P', 'M', 'R', 'G', 'D', 'B', 'W', '6'], ['Q', 'L', 'H', 'C', 'R', 'N', 'M', 'G', '7'], ['x', 'x', 'x', 'x', 'x', 'W', 'L', 'C', '8'], ['T', 'M', 'Z', 'J', 'Q', 'L', 'D', 'R', '9']]\n"
     ]
    }
   ],
   "source": [
    "crates_initial_orientation_splittedlist = []\n",
    "for k in crates_initial_orientation_list:\n",
    "    n = 3\n",
    "    counter = 1\n",
    "    stack = [k[i+1:i+(n-1)] for i in range(0, len(k), n+1)]\n",
    "    crates_initial_orientation_splittedlist.append(stack)\n",
    "\n",
    "asda = np.array(crates_initial_orientation_splittedlist)\n",
    "#print(asda)\n",
    "\n",
    "print(np.transpose(asda))\n",
    "np.transpose(asda)[2]\n",
    "list1 = np.transpose(asda).tolist()\n",
    "print(list1)"
   ]
  },
  {
   "cell_type": "code",
   "execution_count": 71,
   "id": "9695cc05",
   "metadata": {},
   "outputs": [
    {
     "name": "stdout",
     "output_type": "stream",
     "text": [
      "{1: ['D', 'L', 'V', 'T', 'M', 'H', 'F'], 2: ['H', 'Q', 'G', 'J', 'C', 'T', 'N', 'P'], 3: ['R', 'S', 'D', 'M', 'P', 'H'], 4: ['L', 'B', 'V', 'F'], 5: ['N', 'H', 'G', 'L', 'Q'], 6: ['W', 'B', 'D', 'G', 'R', 'M', 'P'], 7: ['G', 'M', 'N', 'R', 'C', 'H', 'L', 'Q'], 8: ['C', 'L', 'W'], 9: ['R', 'D', 'L', 'Q', 'J', 'Z', 'M', 'T']}\n"
     ]
    }
   ],
   "source": [
    "crate_positions = {}\n",
    "for i in list1:\n",
    "    sublist_to_append = [s for s in i if s != 'x']\n",
    "    sublist_to_append.reverse()\n",
    "    crate_positions.update({int(sublist_to_append[0]):sublist_to_append[1:9]})\n",
    "\n",
    "print(crate_positions)\n"
   ]
  },
  {
   "cell_type": "code",
   "execution_count": 54,
   "id": "4d076aca",
   "metadata": {},
   "outputs": [],
   "source": [
    "#print(movement_plan)"
   ]
  },
  {
   "cell_type": "code",
   "execution_count": 56,
   "id": "c9be7825",
   "metadata": {},
   "outputs": [
    {
     "name": "stdout",
     "output_type": "stream",
     "text": [
      "['1', '7', '6']\n",
      "1\n"
     ]
    }
   ],
   "source": [
    "print(re.findall(r'\\d+', movement_plan[0]))\n",
    "print(re.findall(r'\\d+', movement_plan[0])[0])"
   ]
  },
  {
   "cell_type": "code",
   "execution_count": 80,
   "id": "a1464065",
   "metadata": {},
   "outputs": [],
   "source": [
    "def movement_plan_extractor(file_name_btw_brackets):\n",
    "    with open(str(file_name_btw_brackets) + \".txt\") as file:\n",
    "        movement_plan = file.read().strip().split(\"\\n\")\n",
    "    return (movement_plan)\n",
    "\n",
    "def make_intial_positions_into_dictionary(file_name_btw_brackets):\n",
    "    import re\n",
    "    import numpy as np\n",
    "    with open(str(file_name_btw_brackets) + \".txt\") as file:\n",
    "        crates_initial_orientation_list = file.read().strip().split(\"\\n\")\n",
    "    \n",
    "    crates_initial_orientation_splittedlist = []\n",
    "    for k in crates_initial_orientation_list:\n",
    "        n = 3\n",
    "        counter = 1\n",
    "        stack = [k[i+1:i+(n-1)] for i in range(0, len(k), n+1)]\n",
    "        crates_initial_orientation_splittedlist.append(stack)\n",
    "\n",
    "    arranged_positions_back_tolist = np.transpose(np.array(crates_initial_orientation_splittedlist)).tolist()\n",
    "\n",
    "    \n",
    "    crate_positions = {}\n",
    "    for i in arranged_positions_back_tolist:\n",
    "        sublist_to_append = [s for s in i if s != 'x']\n",
    "        sublist_to_append.reverse()\n",
    "        crate_positions.update({int(sublist_to_append[0]):sublist_to_append[1:9]})\n",
    "\n",
    "    return(crate_positions)\n",
    "\n",
    "def movement_order_executor(initial_crate_positions, movement_order_plan):\n",
    "    for i in movement_order_plan:\n",
    "        move_HOW_MANY = int(re.findall(r'\\d+', i)[0])\n",
    "        move_FROM = int(re.findall(r'\\d+', i)[1])\n",
    "        move_TO = int(re.findall(r'\\d+', i)[2])\n",
    "        \n",
    "        for t in range(move_HOW_MANY):\n",
    "            Crane = initial_crate_positions[move_FROM][-1]\n",
    "            initial_crate_positions[move_FROM].pop()\n",
    "            initial_crate_positions[move_TO].append(Crane)\n",
    "    \n",
    "    initial_crate_positions_after_execution = initial_crate_positions\n",
    "    \n",
    "    return initial_crate_positions_after_execution\n",
    "\n",
    "\n",
    "def new_crate_orientation_printer():\n",
    "    \n",
    "    return\n",
    "\n"
   ]
  },
  {
   "cell_type": "code",
   "execution_count": 103,
   "id": "823cb97f",
   "metadata": {},
   "outputs": [
    {
     "name": "stdout",
     "output_type": "stream",
     "text": [
      "{1: ['C', 'M', 'N', 'H'], 2: ['J', 'N'], 3: ['S'], 4: ['L', 'L', 'V', 'N'], 5: ['C', 'L', 'D', 'M'], 6: ['M', 'R', 'B', 'V', 'F', 'Q', 'W', 'T', 'Q', 'J', 'P', 'L', 'W', 'H', 'B', 'R', 'T', 'G', 'M', 'H', 'D', 'T'], 7: ['D', 'G', 'Q', 'F', 'R', 'Z', 'G', 'D', 'P', 'G', 'H', 'P', 'L', 'L'], 8: ['M', 'C', 'H'], 9: ['R', 'Q']}\n",
      "Solution is: ['H', 'N', 'S', 'N', 'M', 'T', 'L', 'H', 'Q']\n"
     ]
    }
   ],
   "source": [
    "positions = make_intial_positions_into_dictionary(\"Crates_initial_orientation_x\")\n",
    "plan = movement_plan_extractor(\"crates_movement_plan\")\n",
    "plan_executed = movement_order_executor(positions, plan)\n",
    "print(plan_executed)\n",
    "\n",
    "solution_list = []\n",
    "for g in range(len(plan_executed)):\n",
    "    solution_list.append(plan_executed[int(g)+1][-1])\n",
    "\n",
    "print(\"Solution is: \" + str(solution_list))"
   ]
  },
  {
   "cell_type": "code",
   "execution_count": null,
   "id": "5f391435",
   "metadata": {},
   "outputs": [],
   "source": []
  }
 ],
 "metadata": {
  "kernelspec": {
   "display_name": "Python 3 (ipykernel)",
   "language": "python",
   "name": "python3"
  },
  "language_info": {
   "codemirror_mode": {
    "name": "ipython",
    "version": 3
   },
   "file_extension": ".py",
   "mimetype": "text/x-python",
   "name": "python",
   "nbconvert_exporter": "python",
   "pygments_lexer": "ipython3",
   "version": "3.9.12"
  }
 },
 "nbformat": 4,
 "nbformat_minor": 5
}
