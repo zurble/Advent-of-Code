{
 "cells": [
  {
   "cell_type": "code",
   "execution_count": 22,
   "id": "9fb03777",
   "metadata": {},
   "outputs": [],
   "source": [
    "import re\n",
    "import numpy as np\n",
    "def movement_plan_extractor(file_name_btw_brackets):\n",
    "    with open(str(file_name_btw_brackets) + \".txt\") as file:\n",
    "        movement_plan = file.read().strip().split(\"\\n\")\n",
    "    return (movement_plan)\n",
    "\n",
    "def make_intial_positions_into_dictionary(file_name_btw_brackets):\n",
    "\n",
    "    with open(str(file_name_btw_brackets) + \".txt\") as file:\n",
    "        crates_initial_orientation_list = file.read().strip().split(\"\\n\")\n",
    "    \n",
    "    crates_initial_orientation_splittedlist = []\n",
    "    for k in crates_initial_orientation_list:\n",
    "        n = 3\n",
    "        stack = [k[i+1:i+(n-1)] for i in range(0, len(k), n+1)]\n",
    "        crates_initial_orientation_splittedlist.append(stack)\n",
    "\n",
    "    arranged_positions_back_tolist = np.transpose(np.array(crates_initial_orientation_splittedlist)).tolist()\n",
    "\n",
    "    \n",
    "    crate_positions = {}\n",
    "    for i in arranged_positions_back_tolist:\n",
    "        sublist_to_append = [s for s in i if s != 'x']\n",
    "        sublist_to_append.reverse()\n",
    "        crate_positions.update({int(sublist_to_append[0]):sublist_to_append[1:9]})\n",
    "\n",
    "    return(crate_positions)\n",
    "\n",
    "def movement_order_executor(initial_crate_positions, movement_order_plan):\n",
    "    for i in movement_order_plan:\n",
    "        move_HOW_MANY = int(re.findall(r'\\d+', i)[0])\n",
    "        move_FROM = int(re.findall(r'\\d+', i)[1])\n",
    "        move_TO = int(re.findall(r'\\d+', i)[2])\n",
    "        \n",
    "        Crane = initial_crate_positions[move_FROM][-move_HOW_MANY:]\n",
    "        \n",
    "        for c in Crane:\n",
    "            initial_crate_positions[move_TO].append(c)\n",
    "        \n",
    "        for k in range(len(initial_crate_positions[move_FROM][-move_HOW_MANY:])):\n",
    "            initial_crate_positions[move_FROM].pop()\n",
    "    \n",
    "    initial_crate_positions_after_execution = initial_crate_positions\n",
    "    \n",
    "    return initial_crate_positions_after_execution\n"
   ]
  },
  {
   "cell_type": "code",
   "execution_count": 23,
   "id": "980ea2d1",
   "metadata": {},
   "outputs": [
    {
     "name": "stdout",
     "output_type": "stream",
     "text": [
      "{1: ['M', 'S', 'B', 'R'], 2: ['L', 'N'], 3: ['L'], 4: ['W', 'D', 'J', 'F'], 5: ['G', 'H', 'G', 'D'], 6: ['C', 'Q', 'P', 'L', 'D', 'P', 'D', 'H', 'W', 'R', 'R', 'M', 'M', 'G', 'F', 'R', 'P', 'H', 'Z', 'C', 'N', 'J'], 7: ['Q', 'Q', 'N', 'T', 'Q', 'L', 'B', 'L', 'M', 'T', 'G', 'L', 'V', 'M'], 8: ['H', 'H', 'C'], 9: ['V', 'T']}\n",
      "Solution is: ['R', 'N', 'L', 'F', 'D', 'J', 'M', 'C', 'T']\n"
     ]
    }
   ],
   "source": [
    "positions = make_intial_positions_into_dictionary(\"Crates_initial_orientation_x\")\n",
    "plan = movement_plan_extractor(\"crates_movement_plan\")\n",
    "plan_executed = movement_order_executor(positions, plan)\n",
    "print(plan_executed)\n",
    "\n",
    "solution_list = []\n",
    "for g in range(len(plan_executed)):\n",
    "    solution_list.append(plan_executed[int(g)+1][-1])\n",
    "\n",
    "print(\"Solution is: \" + str(solution_list))"
   ]
  },
  {
   "cell_type": "code",
   "execution_count": null,
   "id": "41e47dce",
   "metadata": {},
   "outputs": [],
   "source": []
  }
 ],
 "metadata": {
  "kernelspec": {
   "display_name": "Python 3 (ipykernel)",
   "language": "python",
   "name": "python3"
  },
  "language_info": {
   "codemirror_mode": {
    "name": "ipython",
    "version": 3
   },
   "file_extension": ".py",
   "mimetype": "text/x-python",
   "name": "python",
   "nbconvert_exporter": "python",
   "pygments_lexer": "ipython3",
   "version": "3.9.12"
  }
 },
 "nbformat": 4,
 "nbformat_minor": 5
}
