{
 "cells": [
  {
   "cell_type": "markdown",
   "id": "09a1b5e0",
   "metadata": {},
   "source": [
    "DAY 5\n",
    "Cranes operator will position crates and \n",
    "elves wants to work at the moment positioning finishes.\n",
    "There is an initial crate plan and rearrangement procedure.\n",
    "Elves want to know at the end which crate ends up at the top of each stack."
   ]
  },
  {
   "cell_type": "code",
   "execution_count": 3,
   "id": "9fb03777",
   "metadata": {},
   "outputs": [],
   "source": [
    "import re\n",
    "import numpy as np\n",
    "def movement_plan_extractor(file_name_btw_brackets):\n",
    "    with open(f\"{str(file_name_btw_brackets)}.txt\") as file:\n",
    "        movement_plan = file.read().strip().split(\"\\n\")\n",
    "    return (movement_plan)\n",
    "\n",
    "def make_intial_positions_into_dictionary(file_name_btw_brackets):\n",
    "\n",
    "    with open(f\"{str(file_name_btw_brackets)}.txt\") as file:\n",
    "        crates_initial_orientation_list = file.read().strip().split(\"\\n\")\n",
    "\n",
    "    crates_initial_orientation_splittedlist = []\n",
    "    for k in crates_initial_orientation_list:\n",
    "        n = 3\n",
    "        stack = [k[i+1:i+(n-1)] for i in range(0, len(k), n+1)]\n",
    "        crates_initial_orientation_splittedlist.append(stack)\n",
    "\n",
    "    arranged_positions_back_tolist = np.transpose(np.array(crates_initial_orientation_splittedlist)).tolist()\n",
    "\n",
    "\n",
    "    crate_positions = {}\n",
    "    for i in arranged_positions_back_tolist:\n",
    "        sublist_to_append = [s for s in i if s != 'x']\n",
    "        sublist_to_append.reverse()\n",
    "        crate_positions.update({int(sublist_to_append[0]):sublist_to_append[1:9]})\n",
    "\n",
    "    return(crate_positions)\n",
    "\n",
    "def movement_order_executor(initial_crate_positions, movement_order_plan):\n",
    "    for i in movement_order_plan:\n",
    "        move_HOW_MANY = int(re.findall(r'\\d+', i)[0])\n",
    "        move_FROM = int(re.findall(r'\\d+', i)[1])\n",
    "        move_TO = int(re.findall(r'\\d+', i)[2])\n",
    "        \n",
    "        for t in range(move_HOW_MANY):\n",
    "            Crane = initial_crate_positions[move_FROM][-1]\n",
    "            initial_crate_positions[move_FROM].pop()\n",
    "            initial_crate_positions[move_TO].append(Crane)\n",
    "    \n",
    "    initial_crate_positions_after_execution = initial_crate_positions\n",
    "    \n",
    "    return initial_crate_positions_after_execution\n",
    "\n",
    "\n",
    "def new_crate_orientation_printer():\n",
    "    \n",
    "    return"
   ]
  },
  {
   "cell_type": "code",
   "execution_count": 5,
   "id": "980ea2d1",
   "metadata": {},
   "outputs": [
    {
     "name": "stdout",
     "output_type": "stream",
     "text": [
      "{1: ['C', 'M', 'N', 'H'], 2: ['J', 'N'], 3: ['S'], 4: ['L', 'L', 'V', 'N'], 5: ['C', 'L', 'D', 'M'], 6: ['M', 'R', 'B', 'V', 'F', 'Q', 'W', 'T', 'Q', 'J', 'P', 'L', 'W', 'H', 'B', 'R', 'T', 'G', 'M', 'H', 'D', 'T'], 7: ['D', 'G', 'Q', 'F', 'R', 'Z', 'G', 'D', 'P', 'G', 'H', 'P', 'L', 'L'], 8: ['M', 'C', 'H'], 9: ['R', 'Q']}\n",
      "Solution is: ['H', 'N', 'S', 'N', 'M', 'T', 'L', 'H', 'Q']\n"
     ]
    }
   ],
   "source": [
    "positions = make_intial_positions_into_dictionary(\"Crates_initial_orientation_x\")\n",
    "plan = movement_plan_extractor(\"crates_movement_plan\")\n",
    "plan_executed = movement_order_executor(positions, plan)\n",
    "print(plan_executed)\n",
    "\n",
    "solution_list = []\n",
    "for g in range(len(plan_executed)):\n",
    "    solution_list.append(plan_executed[int(g)+1][-1])\n",
    "\n",
    "print(\"Solution is: \" + str(solution_list))"
   ]
  },
  {
   "cell_type": "code",
   "execution_count": null,
   "id": "d309ee86",
   "metadata": {},
   "outputs": [],
   "source": []
  }
 ],
 "metadata": {
  "kernelspec": {
   "display_name": "Python 3 (ipykernel)",
   "language": "python",
   "name": "python3"
  },
  "language_info": {
   "codemirror_mode": {
    "name": "ipython",
    "version": 3
   },
   "file_extension": ".py",
   "mimetype": "text/x-python",
   "name": "python",
   "nbconvert_exporter": "python",
   "pygments_lexer": "ipython3",
   "version": "3.9.13"
  }
 },
 "nbformat": 4,
 "nbformat_minor": 5
}
